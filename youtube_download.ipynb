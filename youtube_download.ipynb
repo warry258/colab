{
  "nbformat": 4,
  "nbformat_minor": 0,
  "metadata": {
    "colab": {
      "provenance": [],
      "authorship_tag": "ABX9TyPjfxtxQDeUc9sZWkDhguCj",
      "include_colab_link": true
    },
    "kernelspec": {
      "name": "python3",
      "display_name": "Python 3"
    },
    "language_info": {
      "name": "python"
    }
  },
  "cells": [
    {
      "cell_type": "markdown",
      "metadata": {
        "id": "view-in-github",
        "colab_type": "text"
      },
      "source": [
        "<a href=\"https://colab.research.google.com/github/warry258/colab/blob/main/youtube_download.ipynb\" target=\"_parent\"><img src=\"https://colab.research.google.com/assets/colab-badge.svg\" alt=\"Open In Colab\"/></a>"
      ]
    },
    {
      "cell_type": "code",
      "execution_count": null,
      "metadata": {
        "id": "GqLENA-AW4x6",
        "colab": {
          "base_uri": "https://localhost:8080/"
        },
        "outputId": "84126b6f-2b2a-43fa-fae3-739ab288b0c8"
      },
      "outputs": [
        {
          "output_type": "stream",
          "name": "stdout",
          "text": [
            "Mounted at /content/drive\n"
          ]
        }
      ],
      "source": [
        "# @title 挂载谷歌硬盘\n",
        "from google.colab import drive\n",
        "drive.mount('/content/drive')\n"
      ]
    },
    {
      "cell_type": "code",
      "source": [
        "# @title 安装 yt-dlp\n",
        "!pip install yt-dlp\n"
      ],
      "metadata": {
        "id": "Kss7JtQ2K6yJ"
      },
      "execution_count": null,
      "outputs": []
    },
    {
      "cell_type": "code",
      "source": [
        "#@title 输入视频地址\n",
        "url = \"https://youtu.be/KLuTLF3x9sA\" #@param {type:\"string\"}"
      ],
      "metadata": {
        "cellView": "form",
        "id": "2KwC75x5TkaX"
      },
      "execution_count": null,
      "outputs": []
    },
    {
      "cell_type": "code",
      "source": [
        "# @title 列出视频格式\n",
        "import subprocess\n",
        "\n",
        "# 使用yt-dlp列出视频的所有可用格式\n",
        "command = ['yt-dlp', '-F', url]\n",
        "process = subprocess.run(command, capture_output=True, text=True)\n",
        "\n",
        "# 解析输出结果\n",
        "formats = process.stdout.split('\\n')\n",
        "for format in formats:\n",
        "    print(format)\n",
        "\n",
        "format_code = input(\"请输入你想要的视频格式的编号：\")\n"
      ],
      "metadata": {
        "id": "7LJxJYJicE-z",
        "cellView": "form"
      },
      "execution_count": null,
      "outputs": []
    },
    {
      "cell_type": "code",
      "source": [
        "# @title 输入下载路径\n",
        "output_path = '/content/drive/MyDrive/AI image' #@param {type:\"string\"}"
      ],
      "metadata": {
        "cellView": "form",
        "id": "RXlOr_NVW_V2"
      },
      "execution_count": null,
      "outputs": []
    },
    {
      "cell_type": "code",
      "source": [
        "# @title 下载视频\n",
        "import os\n",
        "\n",
        "# 使用yt-dlp下载指定格式的视频和最好的音频\n",
        "command = ['yt-dlp', '-f', f'{format_code}+bestaudio', '-o', f'{output_path}/%(title)s.%(ext)s', url]\n",
        "subprocess.run(command)\n",
        "\n",
        "# 找到下载的视频和音频文件\n",
        "files = os.listdir(output_path)\n",
        "video_files = [file for file in files if file.endswith(('.mp4', '.webm'))]\n",
        "audio_files = [file for file in files if file.endswith('.m4a')]\n",
        "\n",
        "# 如果存在视频和音频文件，使用ffmpeg将视频和音频合并为mkv格式\n",
        "if video_files and audio_files:\n",
        "\n",
        "    video_file = video_files[0]\n",
        "    audio_file = audio_files[0]\n",
        "\n",
        "    global mkv_file\n",
        "    mkv_file = '.mkv'\n",
        "\n",
        "    merge_command = ['ffmpeg', '-i', f'{output_path}/{video_file}', '-i', f'{output_path}/{audio_file}', '-c:v', 'copy', '-c:a', 'copy', f'{output_path}/{mkv_file}']\n",
        "    result = subprocess.run(merge_command)\n",
        "\n",
        "\n",
        "\n"
      ],
      "metadata": {
        "cellView": "form",
        "id": "3p3GoAq75Q9t"
      },
      "execution_count": null,
      "outputs": []
    }
  ]
}